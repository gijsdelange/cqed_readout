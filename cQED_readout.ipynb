{
 "cells": [
  {
   "cell_type": "markdown",
   "metadata": {},
   "source": [
    "# Initialize\n",
    "## Imports and setup"
   ]
  },
  {
   "cell_type": "code",
   "execution_count": 4,
   "metadata": {},
   "outputs": [],
   "source": [
    "%matplotlib qt\n",
    "import matplotlib.pyplot as plt\n",
    "\n",
    "import numpy as np\n",
    "import scipy as sp\n",
    "import qutip as qt\n",
    "from matplotlib import rc\n",
    "import cQED\n",
    "import time\n",
    "from time import clock as clck\n",
    "qt.settings.has_mkl=False\n",
    "\n",
    "\n",
    "fparams = {'axes.labelsize': 18,\n",
    "           'axes.titlesize': 18,\n",
    "           'font.size': 18,\n",
    "           'legend.fontsize': 16,\n",
    "           \n",
    "           'xtick.labelsize': 16,\n",
    "           'ytick.labelsize': 16,\n",
    "           'text.usetex': False,\n",
    "           'image.cmap': 'seismic'}\n",
    "plt.rcParams.update(fparams)"
   ]
  },
  {
   "cell_type": "markdown",
   "metadata": {},
   "source": [
    "## Model\n",
    "Qubit-cavity hamiltonian:\n",
    "$\\hat{H}_{C} = 4 E_C (\\hat{n}-n_g)^2 - \\hat{H}_J + \\hbar \\omega_r \\hat{a}^\\dagger \\hat{a} + \n",
    "                2\\beta e V_\\mathrm{RMS} \\hat{n}(\\hat{a} + \\hat{a}^\\dagger)$"
   ]
  },
  {
   "cell_type": "code",
   "execution_count": 5,
   "metadata": {},
   "outputs": [
    {
     "name": "stdout",
     "output_type": "stream",
     "text": [
      "4.766563145999496 4.166563145999495 -0.13336257265348017 -2.862794669831387 21.466252583997978\n"
     ]
    }
   ],
   "source": [
    "def ch_dis(Ej, Ec, m):\n",
    "    deps = -1**m*Ec*2**(4*m+5)*np.sqrt(2/np.pi)*(Ej/2*Ec)**(m/2+3/4)*np.exp(-np.sqrt(8*Ej/Ec))\n",
    "    return 2*deps\n",
    "    \n",
    "\n",
    "couplings = np.zeros((4,4))\n",
    "shifts = np.zeros((4,4))\n",
    "\n",
    "\n",
    "Ej = 6\n",
    "Ec = 0.6\n",
    "params = {'Ej' : Ej, #GHz\n",
    "            'Ec' : Ec, #GHz\n",
    "            'Em' : 0.0, #GHz\n",
    "            'ng' : 0. , #gate charge\n",
    "            'g' : 0.15/2.6, # q-res coupling constant\n",
    "            'wr' : 5.0, # res freq\n",
    "            'kappa' : 0.002, #decay rate resonator\n",
    "            'gamma' : 0.0001, # decay rate transmon\n",
    "            'gamma_phi' : None,\n",
    "            'eps_d' : 0.0003, # res drive amplitude\n",
    "            'wd' : 5., # drive frequency\n",
    "             'f_readout': 4.985,\n",
    "              'f_pump': 6.232,\n",
    "            'eps_t': 0.005, # q drive amplitude\n",
    "            'Nch' : 40,\n",
    "            'Nph' : 4, #size of res fock space\n",
    "            'Ntr':6, # lowest E transmon levels \n",
    "            'parity' : 1,\n",
    "            'couplings' : couplings,\n",
    "            'shifts' : shifts,\n",
    "            'majoranas' : False,\n",
    "             'parity_mixing_rate': 0.00005} # parity switching rate\n",
    "\n",
    "print(np.sqrt(8*Ej*Ec)-Ec, np.sqrt(8*Ej*Ec)-2*Ec, ch_dis(Ej, Ec, 1), ch_dis(Ej, Ec, 2), ch_dis(Ej, Ec, 2)/ch_dis(Ej, Ec, 1))\n",
    "class Clk:\n",
    "    def __init__(self):\n",
    "        self.t0 = clck()\n",
    "        self.tlast = clck()\n",
    "        self.record = ''\n",
    "        self.print = False\n",
    "        self.kk = 0\n",
    "    def stamp(self, lab = ''):\n",
    "        self.tnow = clck()\n",
    "        rec = '%s, %s: total time: %.3f, dt: %.3f'%(self.kk, lab, self.tnow - self.t0, self.tnow-self.tlast)\n",
    "        if self.print:\n",
    "            print(rec)\n",
    "        self.record += rec+'\\n'\n",
    "        self.tlast = 1.*self.tnow\n",
    "        self.kk +=1\n",
    "    def print_rec(self):\n",
    "        print(self.record)\n",
    "        \n",
    "        \n",
    "        \n",
    "        "
   ]
  },
  {
   "cell_type": "markdown",
   "metadata": {},
   "source": [
    "## Modeling readout\n",
    "TODO: Need to get Hamiltonian for the resonator depending on the qubit state and use steady state to get cavity response instead of doing mesolve. Then use a weighted average to get the cavity response. This means the transmon populations are fixed during readout, which is ofcourse not true in real life. It corresponcd to a readout much longer than T1 of the qubit.\n",
    "\n",
    "done, it keeps too much in memory after a frequency sweep, introduces bugs. Need to reset everything after changing ng\n"
   ]
  },
  {
   "cell_type": "code",
   "execution_count": 6,
   "metadata": {
    "scrolled": false
   },
   "outputs": [
    {
     "name": "stdout",
     "output_type": "stream",
     "text": [
      "40\n",
      "0, 1: total time: 0.252, dt: 0.252\n",
      "1, 2: total time: 0.265, dt: 0.012\n",
      "2, 3: total time: 0.271, dt: 0.006\n",
      "3, 4: total time: 0.294, dt: 0.023\n",
      "4, 5: total time: 0.306, dt: 0.013\n",
      "5, 6: total time: 0.315, dt: 0.009\n",
      "6, : total time: 0.315, dt: 0.000\n",
      "7, : total time: 0.319, dt: 0.003\n",
      "8, ss: total time: 0.321, dt: 0.003\n",
      "9, : total time: 0.321, dt: 0.000\n",
      "10, : total time: 0.324, dt: 0.003\n",
      "11, ss: total time: 0.327, dt: 0.002\n",
      "12, : total time: 0.327, dt: 0.000\n",
      "13, : total time: 0.330, dt: 0.003\n",
      "14, ss: total time: 0.332, dt: 0.002\n",
      "15, : total time: 0.332, dt: 0.000\n",
      "16, : total time: 0.335, dt: 0.003\n",
      "17, ss: total time: 0.337, dt: 0.002\n",
      "18, : total time: 0.337, dt: 0.000\n",
      "19, : total time: 0.340, dt: 0.003\n",
      "20, ss: total time: 0.343, dt: 0.002\n",
      "21, : total time: 0.343, dt: 0.000\n",
      "22, : total time: 0.346, dt: 0.003\n",
      "23, ss: total time: 0.348, dt: 0.002\n",
      "24, : total time: 0.348, dt: 0.000\n",
      "\n",
      "4.752304890245001\n",
      "[7, 5, 4, 6]\n"
     ]
    }
   ],
   "source": [
    "# operators\n",
    "from qubit_models import ChargeQubit\n",
    "#plt.close('all')\n",
    "\n",
    "\n",
    "class cQEDModel(ChargeQubit):\n",
    "    \n",
    "    def __init__(self, parameters):\n",
    "        super().__init__(parameters)\n",
    "        self.N = self.Nch\n",
    "        print(self.N)\n",
    "        self.plot = False\n",
    "        self.use_cosine_potential()\n",
    "        \n",
    "    def resonator_field_operator(self):\n",
    "        try: return self.a\n",
    "        except: \n",
    "            self.a = qt.tensor(qt.destroy(self.Nph), qt.qeye(self.Ntr)) \n",
    "            return self.a \n",
    "    \n",
    "    def transmon_number_operator(self, Ntr):\n",
    "        return np.floor(np.arange(0, Ntr)/2)\n",
    "    def set_ng(self, ng):\n",
    "        self.ng = ng\n",
    "        self.use_cosine_potential()\n",
    "        self.transmon_field_operator()\n",
    "        \n",
    "    def transmon_field_operator(self):\n",
    "        Es, evecs = self.energies(return_evecs = True, branch = 'none')\n",
    "        self.E_ts = Es[:self.Ntr]\n",
    "        self.evec_ijs = evecs[:, :self.Ntr]\n",
    "        g_ijs = np.tri(self.Ntr, k = -1)*self.dipole_matrix_elements(evecs)[:self.Ntr, :self.Ntr]#qt.Qobj(np.diag(np.sqrt(np.arange(1,self.Ntr-1)), 2))#qt.destroy(self.Ntr)#np.eye(self.Ntr, k=1)*\n",
    "        self.g_ijs = g_ijs\n",
    "        #print(qt.Qobj(g_ijs))\n",
    "        self.c = qt.tensor(qt.qeye(self.Nph), qt.Qobj(g_ijs)).dag()\n",
    "        return self.c\n",
    "    \n",
    "    def resonator_hamiltonian(self, wr):\n",
    "        a = self.resonator_field_operator()\n",
    "        return wr * a.dag() * a\n",
    "     \n",
    "    def t_state_projector(self, t_state):\n",
    "        I_res = qt.qeye(self.Nph)\n",
    "        select_tr = np.zeros(2*[self.Ntr])\n",
    "        select_tr[t_state, t_state]=1\n",
    "        sel = qt.tensor(I_res, qt.Qobj(select_tr))\n",
    "        return sel\n",
    "    def transmon_hamiltonian(self, wjs):\n",
    "        ham = qt.tensor(qt.qeye(self.Nph), qt.Qobj(np.diag(wjs))) # transmon\n",
    "        return ham\n",
    "    def p_nmax_oper(self):\n",
    "        vs  = np.arange(self.Nph)\n",
    "        vs[-1]=1\n",
    "        return qt.tensor(qt.Qobj(np.diag(vs)), qt.qeye(self.Ntr))\n",
    "    \n",
    "    def coupling_hamiltonian(self):\n",
    "        c = self.c\n",
    "        a = self.a\n",
    "        \n",
    "        return self.g * (a.dag() * c + a * c.dag())\n",
    "    \n",
    "    \n",
    "    \n",
    "    def ham_rotating_frame(self, wd):\n",
    "        self.transmon_field_operator()\n",
    "        self.resonator_field_operator()\n",
    "        if wd == 'res':\n",
    "            wd = (self.E_ts[3]-self.E_ts[0])\n",
    "        #print(wd)\n",
    "        Delta_js = self.E_ts - self.transmon_number_operator(self.Ntr) * wd\n",
    "        #print(Delta_js)\n",
    "        H_tr = self.transmon_hamiltonian(Delta_js)       \n",
    "        \n",
    "        H_res = self.resonator_hamiltonian(self.wr - wd)\n",
    "        H_g = self.coupling_hamiltonian()\n",
    "        \n",
    "        return H_tr + H_res + H_g\n",
    "    def H_drive_res(self):\n",
    "        H_drive = self.eps_d * (self.a.dag() + self.a)\n",
    "        return H_drive\n",
    "    def H_drive_tr(self):\n",
    "        #H_drive = self.eps_t * (self.a.dag() + self.a)\n",
    "        H_drive = self.eps_t * (self.c.dag() + self.c)\n",
    "        #H_2ph_drive = self.eps_t/20. * (self.c.dag()**2 + self.c**2)\n",
    "        return H_drive# + H_2ph_drive\n",
    "    \n",
    "    \n",
    "    def hamiltonian_resonator_drive_frame(self, wd):\n",
    "        H_rot = self.ham_rotating_frame(wd)\n",
    "        return  H_rot\n",
    "    \n",
    "    def hamiltonian_transmon_drive_frame(self, wd):\n",
    "        H_rot = self.ham_rotating_frame(wd)\n",
    "        return H_rot \n",
    "\n",
    "    def c_res(self, kappa):\n",
    "        return np.sqrt(kappa) * self.a\n",
    "    def c_tr(self, kappa):\n",
    "        return np.sqrt(kappa) * self.c\n",
    "    \n",
    "    def transmon_T1_op(self, kappa):\n",
    "        return qt.tensor(qt.qeye(self.Nph),qt.Qobj(np.diag(np.ones(self.Ntr-2), k=2)))\n",
    "    \n",
    "    def initial_state(self, labs):\n",
    "        Psi_0 = np.sum([qt.ket(lab, (self.Nph,self.Ntr)) for lab in labs])/np.sqrt(len(labs))\n",
    "        g = Psi_0 * Psi_0.dag()\n",
    "        return Psi_0, g\n",
    "    def couple_states(self, labii, labkk, kappa):\n",
    "        Psi_ii = qt.ket(labii, (self.Nph,self.Ntr))\n",
    "        Psi_kk = qt.ket(labkk, (self.Nph,self.Ntr))\n",
    "        return np.sqrt(kappa)*Psi_ii*Psi_kk.dag()\n",
    "    \n",
    "    def parity_mixer(self, rate):\n",
    "        parity_oper = qt.Qobj(np.diag((int(self.Ntr/2)*[1,0])[:-1], k=1))#qt.Qobj(np.diag(int(self.Ntr/2)*[1,0], k=1))#qt.tensor(qt.Qobj(np.eye(2)),  qt.Qobj(np.eye(int(self.Ntr/2),k=1)))\n",
    "        self.parity_op = parity_oper\n",
    "        self.pm = qt.tensor(qt.qeye(self.Nph), parity_oper)\n",
    "        return np.sqrt(rate/2) * (self.pm + self.pm.dag())\n",
    "        \n",
    "    def simulate_transmon_drive(self):\n",
    "        self.tmr = Clk()\n",
    "        wd = self.f_pump#'res'#np.sqrt(8*self.Ej*self.Ec)-self.Ec\n",
    "        \n",
    "        H_pump = self.hamiltonian_transmon_drive_frame(wd) + self.H_drive_tr()\n",
    "        self.H_pump = H_pump\n",
    "        c_ops_pump = [self.c_res(self.kappa), self.c_tr(self.gamma), self.c_tr(self.gamma/15.).dag()]\n",
    "        if self.parity_mixing_rate > 0:   \n",
    "            #print('parity')\n",
    "            c_ops_pump += [self.parity_mixer(self.parity_mixing_rate)]\n",
    "        self.tmr.stamp(1)\n",
    "        \n",
    "        ss = qt.steadystate(2 * np.pi * H_pump, c_ops_pump)\n",
    "        \n",
    "        self.tmr.stamp(2)\n",
    "        \n",
    "        \n",
    "        alphas, alpha_tot, ss_ress, p_is = self.simulate_cavity_response(ss)\n",
    "        \n",
    "        return alphas, ss, alpha_tot, ss_ress, p_is\n",
    "    def correct_evecs(self, evecs):\n",
    "        for kk, evec in enumerate(evecs):\n",
    "            sn = np.sign(evec[np.argmax(np.abs(evec))].real)[0,0]\n",
    "            #print(evec, sn, evecs[kk])\n",
    "            evecs[kk] = sn*evec\n",
    "        return evecs\n",
    "    \n",
    "    def get_index_Nlargest(self, arr, N):\n",
    "        inds = []\n",
    "        for kk in range(N):\n",
    "            ind = np.argmax(arr)\n",
    "            arr[ind] = 0\n",
    "            inds += [ind]\n",
    "        return inds\n",
    "    \n",
    "    def simulate_cavity_response(self, ss_tr):\n",
    "        self.wd = self.f_readout\n",
    "        self.H_probe = self.hamiltonian_resonator_drive_frame(self.wd)\n",
    "        self.tmr.stamp(3)\n",
    "        es, evecs = self.H_probe.eigenstates()\n",
    "        self.tmr.stamp(4)\n",
    "        evecs = self.correct_evecs(evecs)\n",
    "        self.evecs = evecs\n",
    "        self.tmr.stamp(5)\n",
    "        a_prime = self.a_prime = self.a.transform(evecs)\n",
    "        c_op_pr = np.sqrt(self.kappa) * a_prime\n",
    "        H_dr_res_pr = self.eps_d * (a_prime.dag() + a_prime)\n",
    "        alphas = []\n",
    "        ss_ress = []\n",
    "        alpha_tot = 0.j\n",
    "        \n",
    "        self.H_probe_t = self.H_probe.transform(evecs) + self.H_drive_res().transform(evecs)\n",
    "        self.tmr.stamp(6)\n",
    "        #print(self.wd)\n",
    "        sm = 0\n",
    "        p_is = []\n",
    "        \n",
    "        for tstate in range(self.Ntr):\n",
    "            self.tmr.stamp() \n",
    "            self.projector = self.t_state_projector(tstate)\n",
    "            self.projector_t = self.projector.transform(evecs)\n",
    "            self.evecs = evecs\n",
    "            #print(self.projector.transform(evecs).get_data()>0.9)\n",
    "            st_inds = self.get_index_Nlargest(self.projector_t.diag(), self.Nph)#np.nonzero(self.projector_t.diag() > 0.6)[0]\n",
    "            #print(st_inds)\n",
    "            self.st_inds = st_inds\n",
    "            #print(self.a_prime.extract_states(st_inds ))\n",
    "            H_conditional_t = self.H_probe_t.extract_states(st_inds )\n",
    "            self.tmr.stamp() \n",
    "            c_ops_t = [c_op_pr.extract_states(st_inds )]\n",
    "            self.c_ops_t = c_ops_t[0]\n",
    "            ss_res = qt.steadystate(2 * np.pi * H_conditional_t, c_ops_t)\n",
    "            #print(self.a_prime.extract_states(st_inds ))\n",
    "            a_cond = (self.a_prime.extract_states(st_inds ))\n",
    "            self.a_cond = a_cond\n",
    "            alpha_i =  qt.expect(a_cond.dag(), ss_res)#(a_cond*ss_res).tr()## + 1.j*qt.expect(a_cond - a_cond.dag(), ss_res)\n",
    "            p_i = np.sum((self.projector * ss_tr).diag()).real\n",
    "            self.tmr.stamp('ss') \n",
    "            sm += p_i\n",
    "            p_is += [p_i]\n",
    "            alphas += [alpha_i]\n",
    "            alpha_tot += p_i*alpha_i\n",
    "            ss_ress += [ss_res]\n",
    "            \n",
    "        self.tmr.stamp()    \n",
    "        #print(sm)\n",
    "        #print('\\n')\n",
    "        return alphas, alpha_tot, ss_ress, p_is\n",
    "    \n",
    "        \n",
    "\n",
    "s = cQEDModel(params)\n",
    "d=s.simulate_transmon_drive()\n",
    "s.tmr.print_rec()\n",
    "s.t_state_projector(1)\n",
    "wt = np.sqrt(s.Ej*s.Ec*8)-s.Ec\n",
    "print(wt + s.g**2/(wt-s.wr))\n",
    "alpha, ss, alpha_tot, ss_res, p_is = s.simulate_transmon_drive()\n",
    "#[print(((evec*evec.dag()).diag()).round(3).real) for evec in s.evecs] \n",
    "#print(s.projector_t.diag())\n",
    "np.nonzero(s.projector_t.diag() > 0.9)[0]\n",
    "#print(s.projector)\n",
    "s.p_nmax_oper()\n",
    "print(s.st_inds)"
   ]
  },
  {
   "cell_type": "markdown",
   "metadata": {},
   "source": [
    "## conditional resonator response"
   ]
  },
  {
   "cell_type": "code",
   "execution_count": 7,
   "metadata": {
    "scrolled": false
   },
   "outputs": [
    {
     "data": {
      "text/plain": [
       "<matplotlib.legend.Legend at 0x1a8e481e5c0>"
      ]
     },
     "execution_count": 7,
     "metadata": {},
     "output_type": "execute_result"
    }
   ],
   "source": [
    "\n",
    "plt.figure('cavity_spec')\n",
    "plt.clf()\n",
    "f_cavs = np.linspace(4.87,5.1, 101)+1e-4\n",
    "alphas = []\n",
    "alphas_i = []\n",
    "p_iss = []\n",
    "ss_ress = []\n",
    "s.parity_mixing_rate = 0.0001\n",
    "for f_cav in f_cavs:\n",
    "    #print(f_cav)\n",
    "    s.f_pump = 10.\n",
    "    #s.eps_t = 0.0001\n",
    "    s.f_readout = f_cav\n",
    "    alpha, ss, alpha_tot, ss_res, p_is = s.simulate_transmon_drive()\n",
    "    alphas += [alpha_tot]\n",
    "    alphas_i += [alpha]\n",
    "    ss_ress +=[ss_res] \n",
    "    p_iss += [p_is]\n",
    "alphas_i = np.array(alphas_i)\n",
    "\n",
    "plt.plot(f_cavs, np.array(alphas).real, label = 'real')\n",
    "plt.plot(f_cavs, np.array(alphas).imag, label = 'imag')\n",
    "plt.plot(f_cavs, np.abs(alphas)**2, label = 'nbar')\n",
    "plt.legend()"
   ]
  },
  {
   "cell_type": "code",
   "execution_count": 8,
   "metadata": {
    "scrolled": false
   },
   "outputs": [
    {
     "data": {
      "text/plain": [
       "<matplotlib.legend.Legend at 0x1a8e48c66d8>"
      ]
     },
     "execution_count": 8,
     "metadata": {},
     "output_type": "execute_result"
    }
   ],
   "source": [
    "alphas_i\n",
    "labs = ['0e', '0o','1e', '1o', '2e', '2o', ]\n",
    "plt.figure('conditional response')\n",
    "plt.clf()\n",
    "\n",
    "plt.subplot(211)\n",
    "plt.title('conditional resonator response')\n",
    "[plt.plot(f_cavs, alphas_i[:,kk].real, label = labs[kk]) for kk in range(len(alphas_i[0,:]))]\n",
    "plt.ylabel(r'Re($\\alpha$)')\n",
    "plt.subplot(212)\n",
    "[plt.plot(f_cavs, alphas_i[:,kk].imag, label = labs[kk]) for kk in range(len(alphas_i[0,:]))]\n",
    "plt.ylabel(r'Im($\\alpha$)')\n",
    "plt.legend()"
   ]
  },
  {
   "cell_type": "code",
   "execution_count": null,
   "metadata": {},
   "outputs": [],
   "source": []
  },
  {
   "cell_type": "code",
   "execution_count": null,
   "metadata": {
    "collapsed": true
   },
   "outputs": [],
   "source": []
  },
  {
   "cell_type": "code",
   "execution_count": null,
   "metadata": {
    "scrolled": true
   },
   "outputs": [],
   "source": []
  },
  {
   "cell_type": "code",
   "execution_count": null,
   "metadata": {},
   "outputs": [],
   "source": []
  },
  {
   "cell_type": "markdown",
   "metadata": {},
   "source": [
    "## spectrum calc"
   ]
  },
  {
   "cell_type": "code",
   "execution_count": 9,
   "metadata": {},
   "outputs": [
    {
     "name": "stdout",
     "output_type": "stream",
     "text": [
      "ng: 0.0001\n",
      "ng: 0.050100000000000006\n"
     ]
    },
    {
     "name": "stderr",
     "output_type": "stream",
     "text": [
      "C:\\ProgramData\\Anaconda3\\lib\\site-packages\\matplotlib\\cbook\\deprecation.py:107: MatplotlibDeprecationWarning: Adding an axes using the same arguments as a previous axes currently reuses the earlier instance.  In a future version, a new instance will always be created and returned.  Meanwhile, this warning can be suppressed, and the future behavior ensured, by passing a unique label to each axes instance.\n",
      "  warnings.warn(message, mplDeprecation, stacklevel=1)\n"
     ]
    },
    {
     "name": "stdout",
     "output_type": "stream",
     "text": [
      "ng: 0.10010000000000001\n",
      "ng: 0.1501\n",
      "ng: 0.2001\n",
      "ng: 0.2501\n",
      "ng: 0.30010000000000003\n",
      "ng: 0.3501\n",
      "ng: 0.4001\n",
      "ng: 0.4501\n",
      "ng: 0.5001\n"
     ]
    }
   ],
   "source": [
    "\n",
    "\n",
    "f_qs = np.linspace(4.1, 4.9, 201)\n",
    "ngs = np.linspace(0, 0.5, 11)+0.0001\n",
    "\n",
    "alphas = np.zeros([len(ngs),len(f_qs)], dtype = np.complex128)\n",
    "sss = [[]]#np.zeros([len(ngs),len(f_qs)], dtype = np.complex128)\n",
    "plt.figure('readout')\n",
    "plt.clf()\n",
    "s.f_readout = 5.004\n",
    "p_iss = [[]]\n",
    "\n",
    "for ll, ng in enumerate(ngs):\n",
    "    print('ng: %s'%ng)  \n",
    "    s.set_ng(ng)\n",
    "    sss += [[]]\n",
    "    p_iss += [[]]\n",
    "    for kk, f in enumerate(f_qs):\n",
    "        s.f_pump = f\n",
    "        #print(f)\n",
    "        alpha, ss, alpha_tot, ssres, p_is = s.simulate_transmon_drive()\n",
    "        alphas[ll,kk] = alpha_tot\n",
    "        sss[ll] += [ss]\n",
    "        p_iss[ll]+=[p_is]\n",
    "\n",
    "    plt.subplot(211)\n",
    "    plt.plot(f_qs, np.array(alphas[ll,:]).real+ng)\n",
    "    plt.subplot(212)\n",
    "    plt.plot(f_qs, np.array(alphas[ll,:]).imag+ng)\n",
    "\n"
   ]
  },
  {
   "cell_type": "code",
   "execution_count": 10,
   "metadata": {},
   "outputs": [
    {
     "data": {
      "text/plain": [
       "Text(0.5,0,'$n_q$')"
      ]
     },
     "execution_count": 10,
     "metadata": {},
     "output_type": "execute_result"
    }
   ],
   "source": [
    "plt.figure('specsim')\n",
    "plt.clf()\n",
    "plt.subplot(121)\n",
    "plt.pcolor(ngs, f_qs, alphas.real.T, cmap='gist_heat_r')\n",
    "plt.ylabel('f (GHz)')\n",
    "plt.xlabel('$n_q$')\n",
    "\n",
    "plt.subplot(122)\n",
    "plt.pcolor(ngs, f_qs, alphas.imag.T, cmap='gist_heat_r')\n",
    "\n",
    "plt.xlabel('$n_q$')"
   ]
  },
  {
   "cell_type": "code",
   "execution_count": 403,
   "metadata": {},
   "outputs": [
    {
     "data": {
      "text/plain": [
       "[<matplotlib.lines.Line2D at 0x236fb7855f8>]"
      ]
     },
     "execution_count": 403,
     "metadata": {},
     "output_type": "execute_result"
    }
   ],
   "source": [
    "plt.figure('spec probs')\n",
    "plt.clf()\n",
    "plt.plot(f_qs, alphas[0,:].real)"
   ]
  },
  {
   "cell_type": "markdown",
   "metadata": {},
   "source": [
    "## Sim spectrum"
   ]
  },
  {
   "cell_type": "code",
   "execution_count": 420,
   "metadata": {},
   "outputs": [],
   "source": [
    "#H = s.hamiltonian_transmon_drive_frame('res')\n",
    "\n",
    "#ngs = np.linspace(-0.5, 0.5, 11)\n",
    "freqs = np.linspace(f_qs[0], f_qs[-1], 1001)#np.linspace(0, 20, 2000)\n",
    "\n",
    "spectrum = s.frequency_spectrum(ngs, freqs, initial_states=[0,1,2,3], kappa = 2*2*np.pi*s.eps_t)\n",
    "plt.figure('bla', figsize=(6,6))\n",
    "plt.clf()\n",
    "\n",
    "plt.imshow(np.flipud(spectrum.T), aspect='auto', extent = [ngs[0], ngs[-1], freqs[0], freqs[-1]], cmap='binary')\n",
    "plt.ylabel('f (GHz)')\n",
    "plt.xlabel('$n_q$')\n",
    "plt.tight_layout()"
   ]
  },
  {
   "cell_type": "markdown",
   "metadata": {},
   "source": [
    "## Random stuff"
   ]
  },
  {
   "cell_type": "code",
   "execution_count": 11,
   "metadata": {
    "scrolled": true
   },
   "outputs": [
    {
     "data": {
      "text/plain": [
       "<matplotlib.collections.PolyCollection at 0x1a8e5557a58>"
      ]
     },
     "execution_count": 11,
     "metadata": {},
     "output_type": "execute_result"
    }
   ],
   "source": [
    "\n",
    "\n",
    "s.H_pump\n",
    "plt.figure('specsim')\n",
    "plt.clf()\n",
    "plt.pcolor(f_qs,ngs, alphas.real, cmap='gist_heat_r')\n",
    "\n"
   ]
  },
  {
   "cell_type": "markdown",
   "metadata": {},
   "source": [
    "qt.destry(10)"
   ]
  },
  {
   "cell_type": "code",
   "execution_count": null,
   "metadata": {
    "collapsed": true
   },
   "outputs": [],
   "source": []
  },
  {
   "cell_type": "code",
   "execution_count": null,
   "metadata": {},
   "outputs": [],
   "source": []
  },
  {
   "cell_type": "code",
   "execution_count": null,
   "metadata": {},
   "outputs": [],
   "source": []
  },
  {
   "cell_type": "code",
   "execution_count": null,
   "metadata": {},
   "outputs": [],
   "source": []
  },
  {
   "cell_type": "code",
   "execution_count": null,
   "metadata": {
    "collapsed": true
   },
   "outputs": [],
   "source": []
  },
  {
   "cell_type": "code",
   "execution_count": null,
   "metadata": {
    "collapsed": true
   },
   "outputs": [],
   "source": [
    "s.H_probe"
   ]
  },
  {
   "cell_type": "code",
   "execution_count": null,
   "metadata": {
    "collapsed": true
   },
   "outputs": [],
   "source": []
  },
  {
   "cell_type": "code",
   "execution_count": null,
   "metadata": {
    "collapsed": true
   },
   "outputs": [],
   "source": []
  },
  {
   "cell_type": "code",
   "execution_count": null,
   "metadata": {
    "collapsed": true
   },
   "outputs": [],
   "source": [
    "ngs = np.linspace(-1,1,51)\n",
    "spec = s.energies_vs_ng(ngs)\n",
    "[plt.plot(ngs, spec[kk,:], label = '%i'%kk) for kk in range(6)]"
   ]
  },
  {
   "cell_type": "code",
   "execution_count": null,
   "metadata": {
    "collapsed": true
   },
   "outputs": [],
   "source": []
  },
  {
   "cell_type": "code",
   "execution_count": null,
   "metadata": {
    "collapsed": true
   },
   "outputs": [],
   "source": [
    "ngs = np.linspace(-1, 1, 51)\n",
    "spectrum_vs_ng = s.energies_vs_ng(ngs)"
   ]
  },
  {
   "cell_type": "code",
   "execution_count": null,
   "metadata": {
    "collapsed": true
   },
   "outputs": [],
   "source": [
    "plt.plot(ngs, spectrum_vs_ng[0, :], c='k')\n",
    "plt.plot(ngs, spectrum_vs_ng[1, :], c='k')\n",
    "plt.plot(ngs, spectrum_vs_ng[2, :], c='k')\n",
    "plt.plot(ngs, spectrum_vs_ng[3, :], c='k')"
   ]
  },
  {
   "cell_type": "code",
   "execution_count": null,
   "metadata": {
    "collapsed": true
   },
   "outputs": [],
   "source": []
  },
  {
   "cell_type": "code",
   "execution_count": 29,
   "metadata": {},
   "outputs": [
    {
     "data": {
      "text/latex": [
       "Quantum object: dims = [[2, 8], [2, 8]], shape = (16, 16), type = oper, isherm = True\\begin{equation*}\\left(\\begin{array}{*{11}c}0.429 & (5.586\\times10^{-05}+3.116\\times10^{-04}j) & (5.406\\times10^{-07}+9.830\\times10^{-06}j) & (-0.003+9.133\\times10^{-07}j) & (1.054\\times10^{-04}-4.543\\times10^{-08}j) & \\cdots & (2.613\\times10^{-05}-4.971\\times10^{-09}j) & (-7.354\\times10^{-05}-2.019\\times10^{-08}j) & (1.376\\times10^{-08}+6.745\\times10^{-08}j) & (-3.621\\times10^{-11}-3.529\\times10^{-09}j) & (-1.421\\times10^{-06}-8.174\\times10^{-10}j)\\\\(5.586\\times10^{-05}-3.116\\times10^{-04}j) & 0.356 & (0.002+9.458\\times10^{-07}j) & (-5.185\\times10^{-07}-4.103\\times10^{-06}j) & (1.622\\times10^{-08}+1.632\\times10^{-06}j) & \\cdots & (4.690\\times10^{-09}+9.068\\times10^{-07}j) & (-9.619\\times10^{-09}+5.437\\times10^{-08}j) & (8.785\\times10^{-05}+4.456\\times10^{-07}j) & (-3.272\\times10^{-07}-2.493\\times10^{-09}j) & (-2.238\\times10^{-10}+6.334\\times10^{-09}j)\\\\(5.406\\times10^{-07}-9.830\\times10^{-06}j) & (0.002-9.458\\times10^{-07}j) & 0.140 & (4.697\\times10^{-08}+9.286\\times10^{-06}j) & (2.481\\times10^{-09}+3.203\\times10^{-07}j) & \\cdots & (-1.693\\times10^{-09}-1.944\\times10^{-07}j) & (4.476\\times10^{-10}+1.771\\times10^{-07}j) & (1.825\\times10^{-05}-6.528\\times10^{-08}j) & (1.309\\times10^{-06}-2.580\\times10^{-09}j) & (-2.327\\times10^{-10}+2.442\\times10^{-09}j)\\\\(-0.003-9.133\\times10^{-07}j) & (-5.185\\times10^{-07}+4.103\\times10^{-06}j) & (4.697\\times10^{-08}-9.286\\times10^{-06}j) & 0.070 & (0.002-1.467\\times10^{-06}j) & \\cdots & (2.626\\times10^{-04}-1.561\\times10^{-08}j) & (1.900\\times10^{-05}+7.769\\times10^{-08}j) & (1.004\\times10^{-09}+5.056\\times10^{-08}j) & (8.755\\times10^{-11}-2.311\\times10^{-10}j) & (1.544\\times10^{-06}+1.557\\times10^{-09}j)\\\\(1.054\\times10^{-04}+4.543\\times10^{-08}j) & (1.622\\times10^{-08}-1.632\\times10^{-06}j) & (2.481\\times10^{-09}-3.203\\times10^{-07}j) & (0.002+1.467\\times10^{-06}j) & 8.343\\times10^{-04} & \\cdots & (1.261\\times10^{-04}+7.336\\times10^{-08}j) & (-5.700\\times10^{-06}+1.521\\times10^{-08}j) & (-2.118\\times10^{-10}+1.339\\times10^{-08}j) & (-1.281\\times10^{-12}-2.457\\times10^{-10}j) & (-2.096\\times10^{-08}+3.934\\times10^{-10}j)\\\\\\vdots & \\vdots & \\vdots & \\vdots & \\vdots & \\ddots & \\vdots & \\vdots & \\vdots & \\vdots & \\vdots\\\\(2.613\\times10^{-05}+4.971\\times10^{-09}j) & (4.690\\times10^{-09}-9.068\\times10^{-07}j) & (-1.693\\times10^{-09}+1.944\\times10^{-07}j) & (2.626\\times10^{-04}+1.561\\times10^{-08}j) & (1.261\\times10^{-04}-7.336\\times10^{-08}j) & \\cdots & 7.626\\times10^{-05} & (6.227\\times10^{-07}+3.213\\times10^{-09}j) & (1.294\\times10^{-09}+2.207\\times10^{-08}j) & (1.170\\times10^{-11}-3.507\\times10^{-10}j) & (6.772\\times10^{-08}+7.793\\times10^{-10}j)\\\\(-7.354\\times10^{-05}+2.019\\times10^{-08}j) & (-9.619\\times10^{-09}-5.437\\times10^{-08}j) & (4.476\\times10^{-10}-1.771\\times10^{-07}j) & (1.900\\times10^{-05}-7.769\\times10^{-08}j) & (-5.700\\times10^{-06}-1.521\\times10^{-08}j) & \\cdots & (6.227\\times10^{-07}-3.213\\times10^{-09}j) & 3.844\\times10^{-06} & -4.136\\times10^{-10}j & (-2.499\\times10^{-12}-4.599\\times10^{-10}j) & (-5.058\\times10^{-08}+3.230\\times10^{-10}j)\\\\(1.376\\times10^{-08}-6.745\\times10^{-08}j) & (8.785\\times10^{-05}-4.456\\times10^{-07}j) & (1.825\\times10^{-05}+6.528\\times10^{-08}j) & (1.004\\times10^{-09}-5.056\\times10^{-08}j) & (-2.118\\times10^{-10}-1.339\\times10^{-08}j) & \\cdots & (1.294\\times10^{-09}-2.207\\times10^{-08}j) & 4.136\\times10^{-10}j & 1.758\\times10^{-05} & (-1.335\\times10^{-07}-4.029\\times10^{-11}j) & (1.934\\times10^{-11}-1.125\\times10^{-10}j)\\\\(-3.621\\times10^{-11}+3.529\\times10^{-09}j) & (-3.272\\times10^{-07}+2.493\\times10^{-09}j) & (1.309\\times10^{-06}+2.580\\times10^{-09}j) & (8.755\\times10^{-11}+2.311\\times10^{-10}j) & (-1.281\\times10^{-12}+2.457\\times10^{-10}j) & \\cdots & (1.170\\times10^{-11}+3.507\\times10^{-10}j) & (-2.499\\times10^{-12}+4.599\\times10^{-10}j) & (-1.335\\times10^{-07}+4.029\\times10^{-11}j) & 2.120\\times10^{-06} & (1.682\\times10^{-12}-7.143\\times10^{-12}j)\\\\(-1.421\\times10^{-06}+8.174\\times10^{-10}j) & (-2.238\\times10^{-10}-6.334\\times10^{-09}j) & (-2.327\\times10^{-10}-2.442\\times10^{-09}j) & (1.544\\times10^{-06}-1.557\\times10^{-09}j) & (-2.096\\times10^{-08}-3.934\\times10^{-10}j) & \\cdots & (6.772\\times10^{-08}-7.793\\times10^{-10}j) & (-5.058\\times10^{-08}-3.230\\times10^{-10}j) & (1.934\\times10^{-11}+1.125\\times10^{-10}j) & (1.682\\times10^{-12}+7.143\\times10^{-12}j) & 3.339\\times10^{-07}\\\\\\end{array}\\right)\\end{equation*}"
      ],
      "text/plain": [
       "Quantum object: dims = [[2, 8], [2, 8]], shape = (16, 16), type = oper, isherm = True\n",
       "Qobj data =\n",
       "[[ 4.28556215e-01+0.00000000e+00j  5.58600460e-05+3.11598645e-04j\n",
       "   5.40646243e-07+9.82962478e-06j -3.30935411e-03+9.13334501e-07j\n",
       "   1.05411803e-04-4.54282313e-08j  4.25781474e-09-4.03012662e-07j\n",
       "  -2.46846763e-08-1.20557104e-07j -3.95802448e-04+1.09822958e-07j\n",
       "  -3.24299157e-04+1.32937577e-08j -4.67025137e-08-1.12938324e-06j\n",
       "  -9.69036927e-10+3.27797664e-08j  2.61310671e-05-4.97144634e-09j\n",
       "  -7.35383148e-05-2.01889901e-08j  1.37607436e-08+6.74503451e-08j\n",
       "  -3.62136967e-11-3.52878007e-09j -1.42080640e-06-8.17426492e-10j]\n",
       " [ 5.58600460e-05-3.11598645e-04j  3.56161462e-01+0.00000000e+00j\n",
       "   2.07965436e-03+9.45765240e-07j -5.18491935e-07-4.10255192e-06j\n",
       "   1.62163769e-08+1.63159669e-06j -8.13063643e-05+4.60256694e-07j\n",
       "  -1.56714089e-04-6.52164116e-07j -5.19554287e-08+2.19331720e-07j\n",
       "  -4.57787964e-08+2.42877679e-07j -2.34860818e-04+3.67677728e-08j\n",
       "   4.73225774e-06+1.30450106e-06j  4.68979749e-09+9.06756269e-07j\n",
       "  -9.61854156e-09+5.43724902e-08j  8.78498286e-05+4.45620945e-07j\n",
       "  -3.27206279e-07-2.49275624e-09j -2.23844112e-10+6.33392221e-09j]\n",
       " [ 5.40646243e-07-9.82962478e-06j  2.07965436e-03-9.45765240e-07j\n",
       "   1.39613121e-01+0.00000000e+00j  4.69696909e-08+9.28578157e-06j\n",
       "   2.48112609e-09+3.20322944e-07j  1.19763248e-02-2.62655048e-05j\n",
       "  -3.47386235e-05+3.34227636e-07j  6.81426518e-10+2.08214236e-06j\n",
       "   2.39309897e-07-6.09918076e-08j -7.53535974e-03-1.46958533e-06j\n",
       "  -1.34797627e-03+2.63966778e-06j -1.69331036e-09-1.94367902e-07j\n",
       "   4.47630098e-10+1.77088091e-07j  1.82541987e-05-6.52773861e-08j\n",
       "   1.30908320e-06-2.58006441e-09j -2.32692561e-10+2.44216712e-09j]\n",
       " [-3.30935411e-03-9.13334501e-07j -5.18491935e-07+4.10255192e-06j\n",
       "   4.69696909e-08-9.28578157e-06j  6.96692952e-02+0.00000000e+00j\n",
       "   2.02975830e-03-1.46722373e-06j  5.92325011e-09-3.18111644e-07j\n",
       "   5.16665802e-09-3.63104287e-07j  1.94714140e-04+8.55218250e-07j\n",
       "   3.68559020e-03+7.77768863e-07j -2.35233872e-07+1.08800973e-08j\n",
       "  -3.27197862e-09+6.04164539e-07j  2.62641274e-04-1.56096708e-08j\n",
       "   1.90015854e-05+7.76931329e-08j  1.00400508e-09+5.05570581e-08j\n",
       "   8.75544395e-11-2.31066239e-10j  1.54377412e-06+1.55732874e-09j]\n",
       " [ 1.05411803e-04+4.54282313e-08j  1.62163769e-08-1.63159669e-06j\n",
       "   2.48112609e-09-3.20322944e-07j  2.02975830e-03+1.46722373e-06j\n",
       "   8.34331225e-04+0.00000000e+00j -3.08049139e-11+1.52740613e-08j\n",
       "  -7.62185967e-11-7.27020040e-08j -5.58279215e-05+1.56588721e-07j\n",
       "   1.08402658e-04+1.43838820e-07j  4.93707069e-09+4.37353092e-08j\n",
       "  -2.15420417e-09+1.38930570e-07j  1.26148236e-04+7.33597554e-08j\n",
       "  -5.69957414e-06+1.52058034e-08j -2.11834551e-10+1.33870552e-08j\n",
       "  -1.28131957e-12-2.45711333e-10j -2.09571296e-08+3.93387350e-10j]\n",
       " [ 4.25781474e-09+4.03012662e-07j -8.13063643e-05-4.60256694e-07j\n",
       "   1.19763248e-02+2.62655048e-05j  5.92325011e-09+3.18111644e-07j\n",
       "  -3.08049139e-11-1.52740613e-08j  2.58021899e-03+0.00000000e+00j\n",
       "  -7.80793182e-06+2.63858792e-08j -1.47078462e-10+2.47590289e-07j\n",
       "   3.70553731e-09-2.55004656e-09j -6.47835586e-04-1.47324864e-06j\n",
       "  -2.65034133e-04-7.31772500e-08j  1.39103236e-09+3.56745786e-08j\n",
       "   3.05599145e-11+2.01598206e-08j  5.34676622e-06+3.79098270e-10j\n",
       "   9.58784212e-08-1.66789956e-09j -3.14441492e-12+5.13081060e-10j]\n",
       " [-2.46846763e-08+1.20557104e-07j -1.56714089e-04+6.52164116e-07j\n",
       "  -3.47386235e-05-3.34227636e-07j  5.16665802e-09+3.63104287e-07j\n",
       "  -7.62185967e-11+7.27020040e-08j -7.80793182e-06-2.63858792e-08j\n",
       "   6.05101236e-04+0.00000000e+00j  5.06926101e-10-7.74781332e-10j\n",
       "  -1.06452516e-07-8.21952177e-10j  6.45374712e-06-4.02925873e-08j\n",
       "   6.18374542e-07-4.15116336e-08j  8.23790623e-10-2.91704888e-08j\n",
       "  -1.60101319e-10+1.17716651e-09j  7.97584394e-05-2.93773365e-08j\n",
       "  -8.25740067e-07-4.10625392e-10j  1.03427182e-10-3.49510789e-09j]\n",
       " [-3.95802448e-04-1.09822958e-07j -5.19554287e-08-2.19331720e-07j\n",
       "   6.81426518e-10-2.08214236e-06j  1.94714140e-04-8.55218250e-07j\n",
       "  -5.58279215e-05-1.56588721e-07j -1.47078462e-10-2.47590289e-07j\n",
       "   5.06926101e-10+7.74781332e-10j  2.44614987e-04+0.00000000e+00j\n",
       "   9.64683098e-06-4.60632705e-08j -1.96408331e-08+6.73371276e-08j\n",
       "  -2.13956737e-10+2.36129511e-08j -9.64742259e-06-2.73969082e-08j\n",
       "   2.53041220e-05+2.01063481e-09j  7.02044488e-11-2.83471063e-10j\n",
       "   7.02540887e-12-1.55321929e-09j  2.18015722e-07+5.21414650e-11j]\n",
       " [-3.24299157e-04-1.32937577e-08j -4.57787964e-08-2.42877679e-07j\n",
       "   2.39309897e-07+6.09918076e-08j  3.68559020e-03-7.77768863e-07j\n",
       "   1.08402658e-04-1.43838820e-07j  3.70553731e-09+2.55004656e-09j\n",
       "  -1.06452516e-07+8.21952177e-10j  9.64683098e-06+4.60632705e-08j\n",
       "   6.15096176e-04+0.00000000e+00j  4.36546505e-06+1.01260766e-05j\n",
       "   4.27399983e-08+2.20211455e-07j  1.05209883e-05+2.39916094e-08j\n",
       "   1.78716583e-06+2.22124309e-09j -1.94417597e-08+8.43893929e-09j\n",
       "  -1.68224784e-09-4.19059605e-09j -3.31603767e-07+4.50888691e-10j]\n",
       " [-4.67025137e-08+1.12938324e-06j -2.34860818e-04-3.67677728e-08j\n",
       "  -7.53535974e-03+1.46958533e-06j -2.35233872e-07-1.08800973e-08j\n",
       "   4.93707069e-09-4.37353092e-08j -6.47835586e-04+1.47324864e-06j\n",
       "   6.45374712e-06+4.02925873e-08j -1.96408331e-08-6.73371276e-08j\n",
       "   4.36546505e-06-1.01260766e-05j  8.42723244e-04+0.00000000e+00j\n",
       "   7.57722575e-05-1.37173656e-07j -4.16028238e-08+9.68244530e-08j\n",
       "   6.56890856e-09-2.24679744e-08j -1.02827588e-06+1.48624632e-08j\n",
       "  -2.57710932e-07-6.76169999e-10j -4.33604797e-09+9.92408184e-09j]\n",
       " [-9.69036927e-10-3.27797664e-08j  4.73225774e-06-1.30450106e-06j\n",
       "  -1.34797627e-03-2.63966778e-06j -3.27197862e-09-6.04164539e-07j\n",
       "  -2.15420417e-09-1.38930570e-07j -2.65034133e-04+7.31772500e-08j\n",
       "   6.18374542e-07+4.15116336e-08j -2.13956737e-10-2.36129511e-08j\n",
       "   4.27399983e-08-2.20211455e-07j  7.57722575e-05+1.37173656e-07j\n",
       "   1.77682048e-04+0.00000000e+00j  1.20945763e-08+5.35322267e-07j\n",
       "   4.41535656e-10+1.56301570e-08j  9.22187419e-06+1.52854538e-08j\n",
       "  -6.42592935e-08+4.76091636e-11j -4.06565106e-11+2.35851751e-09j]\n",
       " [ 2.61310671e-05+4.97144634e-09j  4.68979749e-09-9.06756269e-07j\n",
       "  -1.69331036e-09+1.94367902e-07j  2.62641274e-04+1.56096708e-08j\n",
       "   1.26148236e-04-7.33597554e-08j  1.39103236e-09-3.56745786e-08j\n",
       "   8.23790623e-10+2.91704888e-08j -9.64742259e-06+2.73969082e-08j\n",
       "   1.05209883e-05-2.39916094e-08j -4.16028238e-08-9.68244530e-08j\n",
       "   1.20945763e-08-5.35322267e-07j  7.62578102e-05+0.00000000e+00j\n",
       "   6.22730972e-07+3.21320521e-09j  1.29408605e-09+2.20659243e-08j\n",
       "   1.16957146e-11-3.50712433e-10j  6.77214621e-08+7.79255053e-10j]\n",
       " [-7.35383148e-05+2.01889901e-08j -9.61854156e-09-5.43724902e-08j\n",
       "   4.47630098e-10-1.77088091e-07j  1.90015854e-05-7.76931329e-08j\n",
       "  -5.69957414e-06-1.52058034e-08j  3.05599145e-11-2.01598206e-08j\n",
       "  -1.60101319e-10-1.17716651e-09j  2.53041220e-05-2.01063481e-09j\n",
       "   1.78716583e-06-2.22124309e-09j  6.56890856e-09+2.24679744e-08j\n",
       "   4.41535656e-10-1.56301570e-08j  6.22730972e-07-3.21320521e-09j\n",
       "   3.84447783e-06+0.00000000e+00j  3.49348121e-15-4.13633759e-10j\n",
       "  -2.49857379e-12-4.59867863e-10j -5.05816654e-08+3.22989389e-10j]\n",
       " [ 1.37607436e-08-6.74503451e-08j  8.78498286e-05-4.45620945e-07j\n",
       "   1.82541987e-05+6.52773861e-08j  1.00400508e-09-5.05570581e-08j\n",
       "  -2.11834551e-10-1.33870552e-08j  5.34676622e-06-3.79098270e-10j\n",
       "   7.97584394e-05+2.93773365e-08j  7.02044488e-11+2.83471063e-10j\n",
       "  -1.94417597e-08-8.43893929e-09j -1.02827588e-06-1.48624632e-08j\n",
       "   9.22187419e-06-1.52854538e-08j  1.29408605e-09-2.20659243e-08j\n",
       "   3.49348121e-15+4.13633759e-10j  1.75825219e-05+0.00000000e+00j\n",
       "  -1.33489775e-07-4.02899757e-11j  1.93361197e-11-1.12490183e-10j]\n",
       " [-3.62136967e-11+3.52878007e-09j -3.27206279e-07+2.49275624e-09j\n",
       "   1.30908320e-06+2.58006441e-09j  8.75544395e-11+2.31066239e-10j\n",
       "  -1.28131957e-12+2.45711333e-10j  9.58784212e-08+1.66789956e-09j\n",
       "  -8.25740067e-07+4.10625392e-10j  7.02540887e-12+1.55321929e-09j\n",
       "  -1.68224784e-09+4.19059605e-09j -2.57710932e-07+6.76169999e-10j\n",
       "  -6.42592935e-08-4.76091636e-11j  1.16957146e-11+3.50712433e-10j\n",
       "  -2.49857379e-12+4.59867863e-10j -1.33489775e-07+4.02899757e-11j\n",
       "   2.12014384e-06+0.00000000e+00j  1.68247106e-12-7.14329262e-12j]\n",
       " [-1.42080640e-06+8.17426492e-10j -2.23844112e-10-6.33392221e-09j\n",
       "  -2.32692561e-10-2.44216712e-09j  1.54377412e-06-1.55732874e-09j\n",
       "  -2.09571296e-08-3.93387350e-10j -3.14441492e-12-5.13081060e-10j\n",
       "   1.03427182e-10+3.49510789e-09j  2.18015722e-07-5.21414650e-11j\n",
       "  -3.31603767e-07-4.50888691e-10j -4.33604797e-09-9.92408184e-09j\n",
       "  -4.06565106e-11-2.35851751e-09j  6.77214621e-08-7.79255053e-10j\n",
       "  -5.05816654e-08-3.22989389e-10j  1.93361197e-11+1.12490183e-10j\n",
       "   1.68247106e-12+7.14329262e-12j  3.33859996e-07+0.00000000e+00j]]"
      ]
     },
     "execution_count": 29,
     "metadata": {},
     "output_type": "execute_result"
    }
   ],
   "source": []
  },
  {
   "cell_type": "code",
   "execution_count": null,
   "metadata": {
    "collapsed": true
   },
   "outputs": [],
   "source": [
    "70*2.54"
   ]
  },
  {
   "cell_type": "code",
   "execution_count": null,
   "metadata": {
    "collapsed": true
   },
   "outputs": [],
   "source": [
    "alphas*alphas.conj()"
   ]
  },
  {
   "cell_type": "code",
   "execution_count": null,
   "metadata": {
    "collapsed": true
   },
   "outputs": [],
   "source": [
    "from qutip import *\n",
    "from pylab import *\n",
    "from scipy import *\n",
    "\n",
    "# Define paramters\n",
    "N = 3  # number of basis states to consider\n",
    "a = destroy(N)\n",
    "Hr = a.dag() * a\n",
    "eps = 0.1\n",
    "H_drive = eps * (a+a.dag())\n",
    "H = Hr + H_drive\n",
    "psi0 = basis(N, 0)  # initial state\n",
    "kappa = 0.1  # coupling to oscillator\n",
    "print(a)\n",
    "# collapse operators\n",
    "c_op_list = []\n",
    "n_th_a = 0  # temperature with average of 2 excitations\n",
    "rate = kappa * (1 + n_th_a)\n",
    "if rate > 0.0:\n",
    "    c_op_list.append(sqrt(rate) * a)  # decay operators\n",
    "rate = kappa * n_th_a\n",
    "if rate > 0.0:\n",
    "    c_op_list.append(sqrt(rate) * a.dag())  # excitation operators\n",
    "\n",
    "# find steady-state solution\n",
    "fexpts = []\n",
    "Deltas = np.linspace(-1,1,21)\n",
    "for kk, delta in enumerate(Deltas):\n",
    "    H = delta*Hr + eps * (a + a.dag() )\n",
    "    final_state = steadystate(H, c_op_list)\n",
    "    #print(final_state)\n",
    "    # find expectation value for particle number in steady state\n",
    "    fexpts += [expect(a.dag(), final_state)]\n",
    "plt.figure('cav response')\n",
    "plt.clf()\n",
    "plt.plot(Deltas, np.array(fexpts).real)\n",
    "plt.plot(Deltas, np.array(fexpts).imag)\n",
    "print(fexpt)\n",
    "if 0:\n",
    "    tlist = linspace(0, 50, 100)\n",
    "    # monte-carlo\n",
    "    mcdata = mcsolve(H, psi0, tlist, c_op_list, [a.dag() * a], ntraj=100)\n",
    "    # master eq.\n",
    "    medata = mesolve(H, psi0, tlist, c_op_list, [a.dag() * a])\n",
    "\n",
    "    plot(tlist, mcdata.expect[0], tlist, medata.expect[0], lw=2)\n",
    "    # plot steady-state expt. value as horizontal line (should be = 2)\n",
    "    axhline(y=fexpt, color='r', lw=1.5)\n",
    "    ylim([0, 10])\n",
    "    xlabel('Time', fontsize=14)\n",
    "    ylabel('Number of excitations', fontsize=14)\n",
    "    legend(('Monte-Carlo', 'Master Equation', 'Steady State'))\n",
    "    title('Decay of Fock state $\\left|10\\\\rangle\\\\right.$' +\n",
    "          ' in a thermal environment with $\\langle n\\\\rangle=2$')\n",
    "    show()"
   ]
  },
  {
   "cell_type": "code",
   "execution_count": 37,
   "metadata": {},
   "outputs": [
    {
     "data": {
      "text/plain": [
       "10000.0"
      ]
     },
     "execution_count": 37,
     "metadata": {},
     "output_type": "execute_result"
    }
   ],
   "source": [
    "5000/0.5\n"
   ]
  },
  {
   "cell_type": "code",
   "execution_count": null,
   "metadata": {},
   "outputs": [],
   "source": []
  }
 ],
 "metadata": {
  "kernelspec": {
   "display_name": "Python 3",
   "language": "python",
   "name": "python3"
  },
  "language_info": {
   "codemirror_mode": {
    "name": "ipython",
    "version": 3
   },
   "file_extension": ".py",
   "mimetype": "text/x-python",
   "name": "python",
   "nbconvert_exporter": "python",
   "pygments_lexer": "ipython3",
   "version": "3.6.5"
  },
  "toc": {
   "base_numbering": 1,
   "nav_menu": {},
   "number_sections": true,
   "sideBar": true,
   "skip_h1_title": false,
   "title_cell": "Table of Contents",
   "title_sidebar": "Contents",
   "toc_cell": false,
   "toc_position": {
    "height": "calc(100% - 180px)",
    "left": "10px",
    "top": "150px",
    "width": "254px"
   },
   "toc_section_display": true,
   "toc_window_display": true
  }
 },
 "nbformat": 4,
 "nbformat_minor": 2
}
